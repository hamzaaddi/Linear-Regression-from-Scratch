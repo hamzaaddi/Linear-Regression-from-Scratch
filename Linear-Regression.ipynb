{
 "cells": [
  {
   "cell_type": "markdown",
   "id": "2dae030a",
   "metadata": {},
   "source": [
    "# packages"
   ]
  },
  {
   "cell_type": "code",
   "execution_count": 1,
   "id": "4efb8ae3",
   "metadata": {},
   "outputs": [],
   "source": [
    "import numpy as np\n",
    "from sklearn.datasets import make_regression\n",
    "import matplotlib.pyplot as plt"
   ]
  },
  {
   "cell_type": "code",
   "execution_count": 2,
   "id": "8985a2a8",
   "metadata": {},
   "outputs": [],
   "source": [
    "x,y=make_regression(n_samples=100,n_features=1,noise=6)"
   ]
  },
  {
   "cell_type": "code",
   "execution_count": 3,
   "id": "90620e89",
   "metadata": {},
   "outputs": [
    {
     "data": {
      "text/plain": [
       "<matplotlib.collections.PathCollection at 0x161f5f80670>"
      ]
     },
     "execution_count": 3,
     "metadata": {},
     "output_type": "execute_result"
    },
    {
     "data": {
      "image/png": "[encoded data removed]",
      "text/plain": [
       "<Figure size 432x288 with 1 Axes>"
      ]
     },
     "metadata": {
      "needs_background": "light"
     },
     "output_type": "display_data"
    }
   ],
   "source": [
    "plt.scatter(x,y)"
   ]
  },
  {
   "cell_type": "code",
   "execution_count": 4,
   "id": "2e3aa89d",
   "metadata": {},
   "outputs": [],
   "source": [
    "x.shape\n",
    "y=y.reshape(100,1)"
   ]
  },
  {
   "cell_type": "code",
   "execution_count": 5,
   "id": "8d8fccd5",
   "metadata": {},
   "outputs": [
    {
     "data": {
      "text/plain": [
       "(100, 1)"
      ]
     },
     "execution_count": 5,
     "metadata": {},
     "output_type": "execute_result"
    }
   ],
   "source": [
    "y.shape"
   ]
  },
  {
   "cell_type": "code",
   "execution_count": 6,
   "id": "d00459cb",
   "metadata": {},
   "outputs": [],
   "source": [
    "#matrix X\n",
    "X=np.hstack((x,np.ones(x.shape)))\n",
    "#theta\n",
    "theta=np.random.rand(2,1)"
   ]
  },
  {
   "cell_type": "markdown",
   "id": "5f3cccd2",
   "metadata": {},
   "source": [
    "# model"
   ]
  },
  {
   "cell_type": "code",
   "execution_count": 7,
   "id": "4325f105",
   "metadata": {},
   "outputs": [],
   "source": [
    "def model(X,theta):\n",
    "    return X.dot(theta)"
   ]
  },
  {
   "cell_type": "code",
   "execution_count": 8,
   "id": "6ec18aa4",
   "metadata": {},
   "outputs": [
    {
     "data": {
      "text/plain": [
       "<matplotlib.collections.PathCollection at 0x161f606e880>"
      ]
     },
     "execution_count": 8,
     "metadata": {},
     "output_type": "execute_result"
    },
    {
     "data": {
      "image/png": "[encoded data removed]",
      "text/plain": [
       "<Figure size 432x288 with 1 Axes>"
      ]
     },
     "metadata": {
      "needs_background": "light"
     },
     "output_type": "display_data"
    }
   ],
   "source": [
    "plt.plot(x,model(X,theta),c=\"r\")\n",
    "plt.scatter(x,y)"
   ]
  },
  {
   "cell_type": "markdown",
   "id": "01bb0f61",
   "metadata": {},
   "source": [
    "# cost function "
   ]
  },
  {
   "cell_type": "code",
   "execution_count": 9,
   "id": "3cc010f5",
   "metadata": {},
   "outputs": [],
   "source": [
    "def cost_function(X,y,theta):\n",
    "    m=len(y)\n",
    "    return 1/(2*m) * np.sum((model(X,theta)-y)**2)"
   ]
  },
  {
   "cell_type": "code",
   "execution_count": 10,
   "id": "64fb7c7f",
   "metadata": {},
   "outputs": [
    {
     "data": {
      "text/plain": [
       "4287.658424128052"
      ]
     },
     "execution_count": 10,
     "metadata": {},
     "output_type": "execute_result"
    }
   ],
   "source": [
    "cost_function(X,y,theta)"
   ]
  },
  {
   "cell_type": "markdown",
   "id": "b6698dfe",
   "metadata": {},
   "source": [
    "# gradient descent"
   ]
  },
  {
   "cell_type": "code",
   "execution_count": 11,
   "id": "41808006",
   "metadata": {},
   "outputs": [],
   "source": [
    "def grad(X,y,theta):\n",
    "    m=len(y)\n",
    "    return 1/m * X.T.dot(model(X,theta)-y)"
   ]
  },
  {
   "cell_type": "code",
   "execution_count": 12,
   "id": "3408335b",
   "metadata": {},
   "outputs": [
    {
     "data": {
      "text/plain": [
       "array([[-93.04230912],\n",
       "       [  0.29535845]])"
      ]
     },
     "execution_count": 12,
     "metadata": {},
     "output_type": "execute_result"
    }
   ],
   "source": [
    "grad(X,y,theta)"
   ]
  },
  {
   "cell_type": "code",
   "execution_count": 13,
   "id": "729c225f",
   "metadata": {},
   "outputs": [],
   "source": [
    "def grad_descent(X,y,theta,alpha,iterations):\n",
    "    cost_history=np.zeros(iterations)\n",
    "    for i in range(iterations):\n",
    "        theta=theta - alpha * grad(X,y,theta)\n",
    "        cost_history[i]=cost_function(X,y,theta)\n",
    "    return theta,cost_history"
   ]
  },
  {
   "cell_type": "markdown",
   "id": "de9b7750",
   "metadata": {},
   "source": [
    "# implementation"
   ]
  },
  {
   "cell_type": "code",
   "execution_count": 14,
   "id": "32d4fe89",
   "metadata": {},
   "outputs": [],
   "source": [
    "theta_final,cost_history=grad_descent(X,y,theta,alpha=0.1,iterations=1000)"
   ]
  },
  {
   "cell_type": "code",
   "execution_count": 15,
   "id": "5ea64b21",
   "metadata": {},
   "outputs": [
    {
     "data": {
      "text/plain": [
       "array([[9.19973170e+01],\n",
       "       [1.52966241e-02]])"
      ]
     },
     "execution_count": 15,
     "metadata": {},
     "output_type": "execute_result"
    }
   ],
   "source": [
    "theta_final"
   ]
  },
  {
   "cell_type": "code",
   "execution_count": 16,
   "id": "d1779b66",
   "metadata": {},
   "outputs": [
    {
     "data": {
      "text/plain": [
       "[<matplotlib.lines.Line2D at 0x161f60ce8e0>]"
      ]
     },
     "execution_count": 16,
     "metadata": {},
     "output_type": "execute_result"
    },
    {
     "data": {
      "image/png": "[encoded data removed]",
      "text/plain": [
       "<Figure size 432x288 with 1 Axes>"
      ]
     },
     "metadata": {
      "needs_background": "light"
     },
     "output_type": "display_data"
    }
   ],
   "source": [
    "predictions=model(X,theta_final)\n",
    "plt.scatter(x,y)\n",
    "plt.plot(x,predictions,c=\"r\")"
   ]
  },
  {
   "cell_type": "code",
   "execution_count": 17,
   "id": "6a6b2541",
   "metadata": {},
   "outputs": [
    {
     "data": {
      "text/plain": [
       "[<matplotlib.lines.Line2D at 0x161f70f35b0>]"
      ]
     },
     "execution_count": 17,
     "metadata": {},
     "output_type": "execute_result"
    },
    {
     "data": {
      "image/png": "[encoded data removed]",
      "text/plain": [
       "<Figure size 432x288 with 1 Axes>"
      ]
     },
     "metadata": {
      "needs_background": "light"
     },
     "output_type": "display_data"
    }
   ],
   "source": [
    "plt.plot(cost_history)"
   ]
  },
  {
   "cell_type": "markdown",
   "id": "8791ff44",
   "metadata": {},
   "source": [
    "\n",
    "# coef R2 "
   ]
  },
  {
   "cell_type": "code",
   "execution_count": 18,
   "id": "bf6e9b95",
   "metadata": {},
   "outputs": [],
   "source": [
    "def R2(y,predictions):\n",
    "    u=((y-predictions)**2).sum()\n",
    "    v=((y-y.mean())**2).sum()\n",
    "    return 1- u/v"
   ]
  },
  {
   "cell_type": "code",
   "execution_count": 19,
   "id": "d531a5e7",
   "metadata": {},
   "outputs": [
    {
     "data": {
      "text/plain": [
       "0.9964356943988559"
      ]
     },
     "execution_count": 19,
     "metadata": {},
     "output_type": "execute_result"
    }
   ],
   "source": [
    "R2(y,predictions)"
   ]
  }
 ],
 "metadata": {
  "kernelspec": {
   "display_name": "Python 3",
   "language": "python",
   "name": "python3"
  },
  "language_info": {
   "codemirror_mode": {
    "name": "ipython",
    "version": 3
   },
   "file_extension": ".py",
   "mimetype": "text/x-python",
   "name": "python",
   "nbconvert_exporter": "python",
   "pygments_lexer": "ipython3",
   "version": "3.8.8"
  }
 },
 "nbformat": 4,
 "nbformat_minor": 5
}
